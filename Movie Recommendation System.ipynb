{
 "cells": [
  {
   "cell_type": "markdown",
   "id": "6656afbe",
   "metadata": {},
   "source": [
    "## Creating a recommendation system\n",
    "\n",
    "This notebook looks into using various python-based machine learning and data science libraries in an attempt to build a machine learning recommendation system capable of recommend movies based on user input.\n",
    "\n",
    "### 1. Problem definitions\n",
    "\n",
    "> Given clinical parameters about a patient, can we predict whether or not they have heart disease?\n",
    "\n",
    "### 2. Data \n",
    "The original data came from the Netflix Prize data from Kaggle\n",
    "> https://www.kaggle.com/netflix-inc/netflix-prize-data"
   ]
  },
  {
   "cell_type": "markdown",
   "id": "47790b1d",
   "metadata": {},
   "source": [
    "## Loading our data"
   ]
  },
  {
   "cell_type": "code",
   "execution_count": 42,
   "id": "bfa92fa8",
   "metadata": {},
   "outputs": [],
   "source": [
    "### Let's import the packages we are going to use\n",
    "\n",
    "# Regular EDA\n",
    "import pandas as pd\n",
    "import numpy as np\n",
    "\n",
    "# Sklearn Surprise\n",
    "from surprise import Reader, Dataset, SVD\n",
    "from surprise.model_selection.validation import cross_validate"
   ]
  },
  {
   "cell_type": "markdown",
   "id": "673a6f64",
   "metadata": {},
   "source": [
    "### Let's load our data"
   ]
  },
  {
   "cell_type": "code",
   "execution_count": 26,
   "id": "8143acf9",
   "metadata": {},
   "outputs": [],
   "source": [
    "# Function to load our data\n",
    "def readFile(file_path, rows=100000):\n",
    "    \"\"\"\n",
    "    This function is used to read the file data and transform it into pandas data\n",
    "    frame.\n",
    "    Dictionary items:\n",
    "    > Cust_Id: customerID, the first column in the text file \n",
    "    > Movie_Id: the first row in the text file\n",
    "    > Rating: Second column in the text file \n",
    "    > Date: Last column in the text file\n",
    "    We will limit the rows we read from the file up to 100000 rows\n",
    "    \"\"\"\n",
    "    #Create a dictionary for data\n",
    "    data_dict = {'Cust_Id':[], 'Movie_Id':[], 'Rating':[], 'Date':[]}\n",
    "    with open(file_path, 'r') as f:\n",
    "        count = 0\n",
    "        for line in f:\n",
    "            count += 1\n",
    "            if count>100000:\n",
    "                break\n",
    "            if ':' in line:\n",
    "                movidId = line[:-2] #remove the last character ':'\n",
    "                movieId = int(movidId)\n",
    "            else:\n",
    "                customerID, rating, date = line.split(',')\n",
    "                data_dict['Cust_Id'].append(customerID)\n",
    "                data_dict['Movie_Id'].append(movieId)\n",
    "                data_dict['Rating'].append(rating)\n",
    "                data_dict['Date'].append(date.rstrip(\"\\n\"))\n",
    "    return pd.DataFrame(data_dict)"
   ]
  },
  {
   "cell_type": "code",
   "execution_count": 28,
   "id": "ea412a52",
   "metadata": {},
   "outputs": [],
   "source": [
    "# load and store it into different data frame\n",
    "df1 = readFile('combined_data_1.txt', rows=100000)\n",
    "df2 = readFile('combined_data_2.txt', rows=100000)\n",
    "df3 = readFile('combined_data_3.txt', rows=100000)\n",
    "df4 = readFile('combined_data_4.txt', rows=100000)\n",
    "\n",
    "df1['Rating'] = df1['Rating'].astype(float)\n",
    "df2['Rating'] = df2['Rating'].astype(float)\n",
    "df3['Rating'] = df3['Rating'].astype(float)\n",
    "df4['Rating'] = df4['Rating'].astype(float)"
   ]
  },
  {
   "cell_type": "code",
   "execution_count": 30,
   "id": "c5ef6e8f",
   "metadata": {},
   "outputs": [
    {
     "data": {
      "text/plain": [
       "Cust_Id      object\n",
       "Movie_Id      int64\n",
       "Rating      float64\n",
       "Date         object\n",
       "dtype: object"
      ]
     },
     "execution_count": 30,
     "metadata": {},
     "output_type": "execute_result"
    }
   ],
   "source": [
    "df1.dtypes"
   ]
  },
  {
   "cell_type": "markdown",
   "id": "41cd7d9b",
   "metadata": {},
   "source": [
    "Now, let's make our four dataframes into a single entity. Because our data is consistent in shapes, all we need to do is make a copy of the first data frame then append the rest to the new dataframe"
   ]
  },
  {
   "cell_type": "code",
   "execution_count": 36,
   "id": "a36a5440",
   "metadata": {},
   "outputs": [
    {
     "data": {
      "text/html": [
       "<div>\n",
       "<style scoped>\n",
       "    .dataframe tbody tr th:only-of-type {\n",
       "        vertical-align: middle;\n",
       "    }\n",
       "\n",
       "    .dataframe tbody tr th {\n",
       "        vertical-align: top;\n",
       "    }\n",
       "\n",
       "    .dataframe thead th {\n",
       "        text-align: right;\n",
       "    }\n",
       "</style>\n",
       "<table border=\"1\" class=\"dataframe\">\n",
       "  <thead>\n",
       "    <tr style=\"text-align: right;\">\n",
       "      <th></th>\n",
       "      <th>Cust_Id</th>\n",
       "      <th>Movie_Id</th>\n",
       "      <th>Rating</th>\n",
       "      <th>Date</th>\n",
       "    </tr>\n",
       "  </thead>\n",
       "  <tbody>\n",
       "    <tr>\n",
       "      <th>0</th>\n",
       "      <td>1488844</td>\n",
       "      <td>1</td>\n",
       "      <td>3.0</td>\n",
       "      <td>2005-09-06</td>\n",
       "    </tr>\n",
       "    <tr>\n",
       "      <th>1</th>\n",
       "      <td>822109</td>\n",
       "      <td>1</td>\n",
       "      <td>5.0</td>\n",
       "      <td>2005-05-13</td>\n",
       "    </tr>\n",
       "    <tr>\n",
       "      <th>2</th>\n",
       "      <td>885013</td>\n",
       "      <td>1</td>\n",
       "      <td>4.0</td>\n",
       "      <td>2005-10-19</td>\n",
       "    </tr>\n",
       "    <tr>\n",
       "      <th>3</th>\n",
       "      <td>30878</td>\n",
       "      <td>1</td>\n",
       "      <td>4.0</td>\n",
       "      <td>2005-12-26</td>\n",
       "    </tr>\n",
       "    <tr>\n",
       "      <th>4</th>\n",
       "      <td>823519</td>\n",
       "      <td>1</td>\n",
       "      <td>3.0</td>\n",
       "      <td>2004-05-03</td>\n",
       "    </tr>\n",
       "    <tr>\n",
       "      <th>5</th>\n",
       "      <td>893988</td>\n",
       "      <td>1</td>\n",
       "      <td>3.0</td>\n",
       "      <td>2005-11-17</td>\n",
       "    </tr>\n",
       "    <tr>\n",
       "      <th>6</th>\n",
       "      <td>124105</td>\n",
       "      <td>1</td>\n",
       "      <td>4.0</td>\n",
       "      <td>2004-08-05</td>\n",
       "    </tr>\n",
       "    <tr>\n",
       "      <th>7</th>\n",
       "      <td>1248029</td>\n",
       "      <td>1</td>\n",
       "      <td>3.0</td>\n",
       "      <td>2004-04-22</td>\n",
       "    </tr>\n",
       "    <tr>\n",
       "      <th>8</th>\n",
       "      <td>1842128</td>\n",
       "      <td>1</td>\n",
       "      <td>4.0</td>\n",
       "      <td>2004-05-09</td>\n",
       "    </tr>\n",
       "    <tr>\n",
       "      <th>9</th>\n",
       "      <td>2238063</td>\n",
       "      <td>1</td>\n",
       "      <td>3.0</td>\n",
       "      <td>2005-05-11</td>\n",
       "    </tr>\n",
       "  </tbody>\n",
       "</table>\n",
       "</div>"
      ],
      "text/plain": [
       "   Cust_Id  Movie_Id  Rating        Date\n",
       "0  1488844         1     3.0  2005-09-06\n",
       "1   822109         1     5.0  2005-05-13\n",
       "2   885013         1     4.0  2005-10-19\n",
       "3    30878         1     4.0  2005-12-26\n",
       "4   823519         1     3.0  2004-05-03\n",
       "5   893988         1     3.0  2005-11-17\n",
       "6   124105         1     4.0  2004-08-05\n",
       "7  1248029         1     3.0  2004-04-22\n",
       "8  1842128         1     4.0  2004-05-09\n",
       "9  2238063         1     3.0  2005-05-11"
      ]
     },
     "execution_count": 36,
     "metadata": {},
     "output_type": "execute_result"
    }
   ],
   "source": [
    "df = df1.copy() \n",
    "df = df.append(df2)\n",
    "df = df.append(df3)\n",
    "df = df.append(df4)\n",
    "df.index = np.arange(0,len(df))\n",
    "df.head(10)"
   ]
  },
  {
   "cell_type": "markdown",
   "id": "4d763e5a",
   "metadata": {},
   "source": [
    "Next, the movie titles file can be loaded into memory as Pandas DataFrame."
   ]
  },
  {
   "cell_type": "code",
   "execution_count": 39,
   "id": "07501fa9",
   "metadata": {},
   "outputs": [
    {
     "data": {
      "text/html": [
       "<div>\n",
       "<style scoped>\n",
       "    .dataframe tbody tr th:only-of-type {\n",
       "        vertical-align: middle;\n",
       "    }\n",
       "\n",
       "    .dataframe tbody tr th {\n",
       "        vertical-align: top;\n",
       "    }\n",
       "\n",
       "    .dataframe thead th {\n",
       "        text-align: right;\n",
       "    }\n",
       "</style>\n",
       "<table border=\"1\" class=\"dataframe\">\n",
       "  <thead>\n",
       "    <tr style=\"text-align: right;\">\n",
       "      <th></th>\n",
       "      <th>Movie_Id</th>\n",
       "      <th>Year</th>\n",
       "      <th>Name</th>\n",
       "    </tr>\n",
       "  </thead>\n",
       "  <tbody>\n",
       "    <tr>\n",
       "      <th>0</th>\n",
       "      <td>1</td>\n",
       "      <td>2003.0</td>\n",
       "      <td>Dinosaur Planet</td>\n",
       "    </tr>\n",
       "    <tr>\n",
       "      <th>1</th>\n",
       "      <td>2</td>\n",
       "      <td>2004.0</td>\n",
       "      <td>Isle of Man TT 2004 Review</td>\n",
       "    </tr>\n",
       "    <tr>\n",
       "      <th>2</th>\n",
       "      <td>3</td>\n",
       "      <td>1997.0</td>\n",
       "      <td>Character</td>\n",
       "    </tr>\n",
       "    <tr>\n",
       "      <th>3</th>\n",
       "      <td>4</td>\n",
       "      <td>1994.0</td>\n",
       "      <td>Paula Abdul's Get Up &amp; Dance</td>\n",
       "    </tr>\n",
       "    <tr>\n",
       "      <th>4</th>\n",
       "      <td>5</td>\n",
       "      <td>2004.0</td>\n",
       "      <td>The Rise and Fall of ECW</td>\n",
       "    </tr>\n",
       "    <tr>\n",
       "      <th>5</th>\n",
       "      <td>6</td>\n",
       "      <td>1997.0</td>\n",
       "      <td>Sick</td>\n",
       "    </tr>\n",
       "    <tr>\n",
       "      <th>6</th>\n",
       "      <td>7</td>\n",
       "      <td>1992.0</td>\n",
       "      <td>8 Man</td>\n",
       "    </tr>\n",
       "    <tr>\n",
       "      <th>7</th>\n",
       "      <td>8</td>\n",
       "      <td>2004.0</td>\n",
       "      <td>What the #$*! Do We Know!?</td>\n",
       "    </tr>\n",
       "    <tr>\n",
       "      <th>8</th>\n",
       "      <td>9</td>\n",
       "      <td>1991.0</td>\n",
       "      <td>Class of Nuke 'Em High 2</td>\n",
       "    </tr>\n",
       "    <tr>\n",
       "      <th>9</th>\n",
       "      <td>10</td>\n",
       "      <td>2001.0</td>\n",
       "      <td>Fighter</td>\n",
       "    </tr>\n",
       "  </tbody>\n",
       "</table>\n",
       "</div>"
      ],
      "text/plain": [
       "   Movie_Id    Year                          Name\n",
       "0         1  2003.0               Dinosaur Planet\n",
       "1         2  2004.0    Isle of Man TT 2004 Review\n",
       "2         3  1997.0                     Character\n",
       "3         4  1994.0  Paula Abdul's Get Up & Dance\n",
       "4         5  2004.0      The Rise and Fall of ECW\n",
       "5         6  1997.0                          Sick\n",
       "6         7  1992.0                         8 Man\n",
       "7         8  2004.0    What the #$*! Do We Know!?\n",
       "8         9  1991.0      Class of Nuke 'Em High 2\n",
       "9        10  2001.0                       Fighter"
      ]
     },
     "execution_count": 39,
     "metadata": {},
     "output_type": "execute_result"
    }
   ],
   "source": [
    "df_title = pd.read_csv('movie_titles.csv', encoding = \"ISO-8859-1\", header = None, names = ['Movie_Id', 'Year', 'Name'])\n",
    "df_title.head(10)"
   ]
  },
  {
   "cell_type": "markdown",
   "id": "2f2e1864",
   "metadata": {},
   "source": [
    "## 2. Training our model"
   ]
  },
  {
   "cell_type": "markdown",
   "id": "ea954e38",
   "metadata": {},
   "source": [
    "The Reader class in Surprise is to parse a file containing users, items, and users’ ratings on items.The Reader class in Surprise is to parse a file containing users, items, and users’ ratings on items. We are going to use \n",
    "`SVD (singular value decomposition)` algorithm to train our model"
   ]
  },
  {
   "cell_type": "code",
   "execution_count": 45,
   "id": "0c1649a6",
   "metadata": {},
   "outputs": [],
   "source": [
    "# Create an instance from Reader class\n",
    "reader = Reader()\n",
    "\n",
    "# Load our data using Dataset. The Dataset module in Surprise provides \n",
    "# different methods for loading data from files, Pandas DataFrames, or \n",
    "# built-in datasets\n",
    "data = Dataset.load_from_df(df[['Cust_Id', 'Movie_Id', 'Rating']], reader)\n",
    "\n",
    "# As mentioned, we're going to use SVD for our recommendation system\n",
    "svd = SVD()"
   ]
  },
  {
   "cell_type": "markdown",
   "id": "113ed0a5",
   "metadata": {},
   "source": [
    "## 3. Evaluation"
   ]
  },
  {
   "cell_type": "markdown",
   "id": "6e61ac08",
   "metadata": {},
   "source": [
    "We're going to use cross validation to evaluate our model"
   ]
  },
  {
   "cell_type": "code",
   "execution_count": 46,
   "id": "1d934bce",
   "metadata": {},
   "outputs": [
    {
     "name": "stdout",
     "output_type": "stream",
     "text": [
      "Evaluating RMSE, MAE of algorithm SVD on 5 split(s).\n",
      "\n",
      "                  Fold 1  Fold 2  Fold 3  Fold 4  Fold 5  Mean    Std     \n",
      "RMSE (testset)    1.0103  1.0152  1.0159  1.0165  1.0169  1.0149  0.0024  \n",
      "MAE (testset)     0.8065  0.8084  0.8111  0.8098  0.8084  0.8088  0.0015  \n",
      "Fit time          18.64   18.45   20.74   18.93   19.58   19.27   0.83    \n",
      "Test time         0.62    0.62    0.57    0.69    0.57    0.61    0.04    \n"
     ]
    },
    {
     "data": {
      "text/plain": [
       "{'test_rmse': array([1.01026731, 1.01523398, 1.01592167, 1.01645601, 1.01685702]),\n",
       " 'test_mae': array([0.80651244, 0.80840073, 0.81105676, 0.80978981, 0.80842716]),\n",
       " 'fit_time': (18.636523723602295,\n",
       "  18.448293924331665,\n",
       "  20.74327254295349,\n",
       "  18.933855533599854,\n",
       "  19.580331563949585),\n",
       " 'test_time': (0.6229898929595947,\n",
       "  0.6233022212982178,\n",
       "  0.5690250396728516,\n",
       "  0.6871788501739502,\n",
       "  0.5704398155212402)}"
      ]
     },
     "execution_count": 46,
     "metadata": {},
     "output_type": "execute_result"
    }
   ],
   "source": [
    "cross_validate(svd, data, measures=['RMSE', 'MAE'], cv=5, verbose=True)"
   ]
  },
  {
   "cell_type": "markdown",
   "id": "386ffd0b",
   "metadata": {},
   "source": [
    "Once the model has been evaluated to our satisfaction, then we can re-train the model using the entire training dataset:"
   ]
  },
  {
   "cell_type": "code",
   "execution_count": 47,
   "id": "7520f24d",
   "metadata": {},
   "outputs": [
    {
     "data": {
      "text/plain": [
       "<surprise.prediction_algorithms.matrix_factorization.SVD at 0x1d7d7ba30a0>"
      ]
     },
     "execution_count": 47,
     "metadata": {},
     "output_type": "execute_result"
    }
   ],
   "source": [
    "trainset = data.build_full_trainset()\n",
    "svd.fit(trainset)"
   ]
  },
  {
   "cell_type": "markdown",
   "id": "0daa15a1",
   "metadata": {},
   "source": [
    "## 4. Testing our model"
   ]
  },
  {
   "cell_type": "markdown",
   "id": "02274188",
   "metadata": {},
   "source": [
    "After a recommendation model has been trained appropriately, it can be used for prediction.\n",
    "> For example, given a user (e.g., Customer Id 785314), we can use the trained model to predict the ratings given by the user on different products (i.e., Movie titles):"
   ]
  },
  {
   "cell_type": "code",
   "execution_count": 48,
   "id": "045f6699",
   "metadata": {},
   "outputs": [],
   "source": [
    "titles = df_title.copy()\n",
    "titles['Estimate_Score'] = titles['Movie_Id'].apply(lambda x: svd.predict(785314, x).est)"
   ]
  },
  {
   "cell_type": "markdown",
   "id": "b13442b8",
   "metadata": {},
   "source": [
    "To recommend products (i.e., movies) to the given user, we can sort the list of movies in decreasing order of predicted ratings and take the top N movies as recommendations:"
   ]
  },
  {
   "cell_type": "code",
   "execution_count": 49,
   "id": "7d13284f",
   "metadata": {},
   "outputs": [
    {
     "data": {
      "text/html": [
       "<div>\n",
       "<style scoped>\n",
       "    .dataframe tbody tr th:only-of-type {\n",
       "        vertical-align: middle;\n",
       "    }\n",
       "\n",
       "    .dataframe tbody tr th {\n",
       "        vertical-align: top;\n",
       "    }\n",
       "\n",
       "    .dataframe thead th {\n",
       "        text-align: right;\n",
       "    }\n",
       "</style>\n",
       "<table border=\"1\" class=\"dataframe\">\n",
       "  <thead>\n",
       "    <tr style=\"text-align: right;\">\n",
       "      <th></th>\n",
       "      <th>Movie_Id</th>\n",
       "      <th>Year</th>\n",
       "      <th>Name</th>\n",
       "      <th>Estimate_Score</th>\n",
       "    </tr>\n",
       "  </thead>\n",
       "  <tbody>\n",
       "    <tr>\n",
       "      <th>12</th>\n",
       "      <td>13</td>\n",
       "      <td>2003.0</td>\n",
       "      <td>Lord of the Rings: The Return of the King: Ext...</td>\n",
       "      <td>4.494058</td>\n",
       "    </tr>\n",
       "    <tr>\n",
       "      <th>9235</th>\n",
       "      <td>9236</td>\n",
       "      <td>1998.0</td>\n",
       "      <td>South Park: Season 2</td>\n",
       "      <td>4.092507</td>\n",
       "    </tr>\n",
       "    <tr>\n",
       "      <th>4505</th>\n",
       "      <td>4506</td>\n",
       "      <td>1961.0</td>\n",
       "      <td>Breakfast at Tiffany's</td>\n",
       "      <td>4.033714</td>\n",
       "    </tr>\n",
       "    <tr>\n",
       "      <th>24</th>\n",
       "      <td>25</td>\n",
       "      <td>1997.0</td>\n",
       "      <td>Inspector Morse 31: Death Is Now My Neighbour</td>\n",
       "      <td>4.021449</td>\n",
       "    </tr>\n",
       "    <tr>\n",
       "      <th>13379</th>\n",
       "      <td>13380</td>\n",
       "      <td>1949.0</td>\n",
       "      <td>Stray Dog</td>\n",
       "      <td>4.016029</td>\n",
       "    </tr>\n",
       "    <tr>\n",
       "      <th>4508</th>\n",
       "      <td>4509</td>\n",
       "      <td>1977.0</td>\n",
       "      <td>Little House on the Prairie: Season 4</td>\n",
       "      <td>3.979105</td>\n",
       "    </tr>\n",
       "    <tr>\n",
       "      <th>4520</th>\n",
       "      <td>4521</td>\n",
       "      <td>2002.0</td>\n",
       "      <td>Wire in the Blood: Justice Painted Blind</td>\n",
       "      <td>3.969216</td>\n",
       "    </tr>\n",
       "    <tr>\n",
       "      <th>4</th>\n",
       "      <td>5</td>\n",
       "      <td>2004.0</td>\n",
       "      <td>The Rise and Fall of ECW</td>\n",
       "      <td>3.968313</td>\n",
       "    </tr>\n",
       "    <tr>\n",
       "      <th>13374</th>\n",
       "      <td>13375</td>\n",
       "      <td>1963.0</td>\n",
       "      <td>Andy Griffith Show: Classic Favorites</td>\n",
       "      <td>3.940749</td>\n",
       "    </tr>\n",
       "    <tr>\n",
       "      <th>13377</th>\n",
       "      <td>13378</td>\n",
       "      <td>1940.0</td>\n",
       "      <td>His Girl Friday</td>\n",
       "      <td>3.919252</td>\n",
       "    </tr>\n",
       "  </tbody>\n",
       "</table>\n",
       "</div>"
      ],
      "text/plain": [
       "       Movie_Id    Year                                               Name  \\\n",
       "12           13  2003.0  Lord of the Rings: The Return of the King: Ext...   \n",
       "9235       9236  1998.0                               South Park: Season 2   \n",
       "4505       4506  1961.0                             Breakfast at Tiffany's   \n",
       "24           25  1997.0      Inspector Morse 31: Death Is Now My Neighbour   \n",
       "13379     13380  1949.0                                          Stray Dog   \n",
       "4508       4509  1977.0              Little House on the Prairie: Season 4   \n",
       "4520       4521  2002.0           Wire in the Blood: Justice Painted Blind   \n",
       "4             5  2004.0                           The Rise and Fall of ECW   \n",
       "13374     13375  1963.0              Andy Griffith Show: Classic Favorites   \n",
       "13377     13378  1940.0                                    His Girl Friday   \n",
       "\n",
       "       Estimate_Score  \n",
       "12           4.494058  \n",
       "9235         4.092507  \n",
       "4505         4.033714  \n",
       "24           4.021449  \n",
       "13379        4.016029  \n",
       "4508         3.979105  \n",
       "4520         3.969216  \n",
       "4            3.968313  \n",
       "13374        3.940749  \n",
       "13377        3.919252  "
      ]
     },
     "execution_count": 49,
     "metadata": {},
     "output_type": "execute_result"
    }
   ],
   "source": [
    "titles = titles.sort_values(by=['Estimate_Score'], ascending=False)\n",
    "titles.head(10)"
   ]
  },
  {
   "cell_type": "code",
   "execution_count": 51,
   "id": "b9991c9a",
   "metadata": {},
   "outputs": [
    {
     "data": {
      "text/html": [
       "<div>\n",
       "<style scoped>\n",
       "    .dataframe tbody tr th:only-of-type {\n",
       "        vertical-align: middle;\n",
       "    }\n",
       "\n",
       "    .dataframe tbody tr th {\n",
       "        vertical-align: top;\n",
       "    }\n",
       "\n",
       "    .dataframe thead th {\n",
       "        text-align: right;\n",
       "    }\n",
       "</style>\n",
       "<table border=\"1\" class=\"dataframe\">\n",
       "  <thead>\n",
       "    <tr style=\"text-align: right;\">\n",
       "      <th></th>\n",
       "      <th>Movie_Id</th>\n",
       "      <th>Year</th>\n",
       "      <th>Name</th>\n",
       "      <th>Estimate_Score</th>\n",
       "    </tr>\n",
       "  </thead>\n",
       "  <tbody>\n",
       "    <tr>\n",
       "      <th>12</th>\n",
       "      <td>13</td>\n",
       "      <td>2003.0</td>\n",
       "      <td>Lord of the Rings: The Return of the King: Ext...</td>\n",
       "      <td>4.494058</td>\n",
       "    </tr>\n",
       "    <tr>\n",
       "      <th>9235</th>\n",
       "      <td>9236</td>\n",
       "      <td>1998.0</td>\n",
       "      <td>South Park: Season 2</td>\n",
       "      <td>4.092507</td>\n",
       "    </tr>\n",
       "    <tr>\n",
       "      <th>4505</th>\n",
       "      <td>4506</td>\n",
       "      <td>1961.0</td>\n",
       "      <td>Breakfast at Tiffany's</td>\n",
       "      <td>4.033714</td>\n",
       "    </tr>\n",
       "    <tr>\n",
       "      <th>24</th>\n",
       "      <td>25</td>\n",
       "      <td>1997.0</td>\n",
       "      <td>Inspector Morse 31: Death Is Now My Neighbour</td>\n",
       "      <td>4.021449</td>\n",
       "    </tr>\n",
       "    <tr>\n",
       "      <th>13379</th>\n",
       "      <td>13380</td>\n",
       "      <td>1949.0</td>\n",
       "      <td>Stray Dog</td>\n",
       "      <td>4.016029</td>\n",
       "    </tr>\n",
       "    <tr>\n",
       "      <th>4508</th>\n",
       "      <td>4509</td>\n",
       "      <td>1977.0</td>\n",
       "      <td>Little House on the Prairie: Season 4</td>\n",
       "      <td>3.979105</td>\n",
       "    </tr>\n",
       "    <tr>\n",
       "      <th>4520</th>\n",
       "      <td>4521</td>\n",
       "      <td>2002.0</td>\n",
       "      <td>Wire in the Blood: Justice Painted Blind</td>\n",
       "      <td>3.969216</td>\n",
       "    </tr>\n",
       "    <tr>\n",
       "      <th>4</th>\n",
       "      <td>5</td>\n",
       "      <td>2004.0</td>\n",
       "      <td>The Rise and Fall of ECW</td>\n",
       "      <td>3.968313</td>\n",
       "    </tr>\n",
       "    <tr>\n",
       "      <th>13374</th>\n",
       "      <td>13375</td>\n",
       "      <td>1963.0</td>\n",
       "      <td>Andy Griffith Show: Classic Favorites</td>\n",
       "      <td>3.940749</td>\n",
       "    </tr>\n",
       "    <tr>\n",
       "      <th>13377</th>\n",
       "      <td>13378</td>\n",
       "      <td>1940.0</td>\n",
       "      <td>His Girl Friday</td>\n",
       "      <td>3.919252</td>\n",
       "    </tr>\n",
       "  </tbody>\n",
       "</table>\n",
       "</div>"
      ],
      "text/plain": [
       "       Movie_Id    Year                                               Name  \\\n",
       "12           13  2003.0  Lord of the Rings: The Return of the King: Ext...   \n",
       "9235       9236  1998.0                               South Park: Season 2   \n",
       "4505       4506  1961.0                             Breakfast at Tiffany's   \n",
       "24           25  1997.0      Inspector Morse 31: Death Is Now My Neighbour   \n",
       "13379     13380  1949.0                                          Stray Dog   \n",
       "4508       4509  1977.0              Little House on the Prairie: Season 4   \n",
       "4520       4521  2002.0           Wire in the Blood: Justice Painted Blind   \n",
       "4             5  2004.0                           The Rise and Fall of ECW   \n",
       "13374     13375  1963.0              Andy Griffith Show: Classic Favorites   \n",
       "13377     13378  1940.0                                    His Girl Friday   \n",
       "\n",
       "       Estimate_Score  \n",
       "12           4.494058  \n",
       "9235         4.092507  \n",
       "4505         4.033714  \n",
       "24           4.021449  \n",
       "13379        4.016029  \n",
       "4508         3.979105  \n",
       "4520         3.969216  \n",
       "4            3.968313  \n",
       "13374        3.940749  \n",
       "13377        3.919252  "
      ]
     },
     "execution_count": 51,
     "metadata": {},
     "output_type": "execute_result"
    }
   ],
   "source": [
    "# Let's try another customer\n",
    "titles2 = df_title.copy()\n",
    "titles2['Estimate_Score'] = titles2['Movie_Id'].apply(lambda x: svd.predict(1248029, x).est)\n",
    "titles2 = titles2.sort_values(by=['Estimate_Score'], ascending=False)\n",
    "titles2.head(10)"
   ]
  }
 ],
 "metadata": {
  "kernelspec": {
   "display_name": "Python 3",
   "language": "python",
   "name": "python3"
  },
  "language_info": {
   "codemirror_mode": {
    "name": "ipython",
    "version": 3
   },
   "file_extension": ".py",
   "mimetype": "text/x-python",
   "name": "python",
   "nbconvert_exporter": "python",
   "pygments_lexer": "ipython3",
   "version": "3.9.5"
  }
 },
 "nbformat": 4,
 "nbformat_minor": 5
}
